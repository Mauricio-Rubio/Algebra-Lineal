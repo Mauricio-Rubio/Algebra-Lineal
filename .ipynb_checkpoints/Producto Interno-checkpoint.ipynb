{
 "cells": [
  {
   "cell_type": "code",
   "execution_count": 1,
   "id": "460b8855",
   "metadata": {},
   "outputs": [],
   "source": [
    "import numpy as np"
   ]
  },
  {
   "cell_type": "code",
   "execution_count": 8,
   "id": "c8b9b7ae",
   "metadata": {},
   "outputs": [],
   "source": [
    "escalar = 5.679\n",
    "vector = np.array([2,3])\n",
    "matriz = np.array([[1,2],[3,4],[5,6]])"
   ]
  },
  {
   "cell_type": "code",
   "execution_count": 10,
   "id": "9f5534f2",
   "metadata": {},
   "outputs": [],
   "source": [
    "A = matriz * vector # Matriz (3x2) * vector (2) = 3x2\n"
   ]
  },
  {
   "cell_type": "code",
   "execution_count": 4,
   "id": "072c7282",
   "metadata": {},
   "outputs": [],
   "source": [
    "B = matriz.dot(vector) # Matriz (3x2) dot(vector (2,)) = 3,  "
   ]
  },
  {
   "cell_type": "code",
   "execution_count": 5,
   "id": "7f89212a",
   "metadata": {},
   "outputs": [
    {
     "name": "stdout",
     "output_type": "stream",
     "text": [
      "[[ 2  6]\n",
      " [ 6 12]\n",
      " [10 18]]\n"
     ]
    }
   ],
   "source": [
    "print(A) "
   ]
  },
  {
   "cell_type": "code",
   "execution_count": 6,
   "id": "9c2c89f6",
   "metadata": {},
   "outputs": [
    {
     "name": "stdout",
     "output_type": "stream",
     "text": [
      "[ 8 18 28]\n"
     ]
    }
   ],
   "source": [
    "print(B) "
   ]
  },
  {
   "cell_type": "code",
   "execution_count": null,
   "id": "7603c579",
   "metadata": {},
   "outputs": [],
   "source": []
  }
 ],
 "metadata": {
  "kernelspec": {
   "display_name": "Python 3 (ipykernel)",
   "language": "python",
   "name": "python3"
  },
  "language_info": {
   "codemirror_mode": {
    "name": "ipython",
    "version": 3
   },
   "file_extension": ".py",
   "mimetype": "text/x-python",
   "name": "python",
   "nbconvert_exporter": "python",
   "pygments_lexer": "ipython3",
   "version": "3.9.12"
  }
 },
 "nbformat": 4,
 "nbformat_minor": 5
}
