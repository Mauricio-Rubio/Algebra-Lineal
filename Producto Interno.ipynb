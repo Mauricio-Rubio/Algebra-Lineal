{
 "cells": [
  {
   "cell_type": "code",
   "execution_count": 1,
   "id": "e988d3f2",
   "metadata": {},
   "outputs": [],
   "source": [
    "import numpy as np"
   ]
  },
  {
   "cell_type": "code",
   "execution_count": 20,
   "id": "0eda13a8",
   "metadata": {},
   "outputs": [
    {
     "name": "stdout",
     "output_type": "stream",
     "text": [
      "[[1 2]\n",
      " [3 4]\n",
      " [5 6]]\n",
      "[2 3]\n"
     ]
    }
   ],
   "source": [
    "escalar = 5.679\n",
    "vector = np.array([2,3])\n",
    "matriz = np.array([[1,2],[3,4],[5,6]])\n",
    "print(matriz)\n",
    "print(vector)"
   ]
  },
  {
   "cell_type": "code",
   "execution_count": 10,
   "id": "7598ce84",
   "metadata": {},
   "outputs": [],
   "source": [
    "A = matriz * vector # Matriz (3x2) * vector (2) = 3x2, ejemplo de Broadcasting\n"
   ]
  },
  {
   "cell_type": "code",
   "execution_count": 13,
   "id": "36397aec",
   "metadata": {},
   "outputs": [],
   "source": [
    "B = matriz.dot(vector) # Matriz (3x2) dot(vector (2,)) = 3,  [1x2 + 3x3][3x2 + 4x3][5x2 + 6x3]"
   ]
  },
  {
   "cell_type": "code",
   "execution_count": 5,
   "id": "044e70de",
   "metadata": {},
   "outputs": [
    {
     "name": "stdout",
     "output_type": "stream",
     "text": [
      "[[ 2  6]\n",
      " [ 6 12]\n",
      " [10 18]]\n"
     ]
    }
   ],
   "source": [
    "print(A) "
   ]
  },
  {
   "cell_type": "code",
   "execution_count": 6,
   "id": "29a25344",
   "metadata": {},
   "outputs": [
    {
     "name": "stdout",
     "output_type": "stream",
     "text": [
      "[ 8 18 28]\n"
     ]
    }
   ],
   "source": [
    "print(B) "
   ]
  },
  {
   "cell_type": "code",
   "execution_count": 11,
   "id": "a04b4d59",
   "metadata": {},
   "outputs": [],
   "source": [
    "C = vector.dot(np.array([10,20]))"
   ]
  },
  {
   "cell_type": "code",
   "execution_count": 12,
   "id": "57b8fd20",
   "metadata": {},
   "outputs": [
    {
     "name": "stdout",
     "output_type": "stream",
     "text": [
      "80\n"
     ]
    }
   ],
   "source": [
    "print(C)"
   ]
  },
  {
   "cell_type": "code",
   "execution_count": 14,
   "id": "d2d45b67",
   "metadata": {},
   "outputs": [
    {
     "name": "stdout",
     "output_type": "stream",
     "text": [
      "[ 8 18 28]\n",
      " \n",
      "[ 8 18 28]\n"
     ]
    }
   ],
   "source": [
    "# Funcion producto interno o producto punto:\n",
    "B = matriz.dot(vector)\n",
    "C = np.dot(matriz,vector)\n",
    "print(B)\n",
    "print(\" \")\n",
    "print(C)"
   ]
  },
  {
   "cell_type": "code",
   "execution_count": 22,
   "id": "2f6dfaff",
   "metadata": {},
   "outputs": [
    {
     "name": "stdout",
     "output_type": "stream",
     "text": [
      "[274  20]\n",
      " \n",
      "[-11 210]\n"
     ]
    }
   ],
   "source": [
    "# Conmuta el producto interno?\n",
    "matriz = np.array([[2,90],[-5,10]])\n",
    "D = np.dot(matriz,vector)\n",
    "E = np.dot(vector,matriz)\n",
    "print(D)\n",
    "print(\" \")\n",
    "print(E)"
   ]
  },
  {
   "cell_type": "code",
   "execution_count": null,
   "id": "8ed05736",
   "metadata": {},
   "outputs": [],
   "source": []
  }
 ],
 "metadata": {
  "kernelspec": {
   "display_name": "Python 3 (ipykernel)",
   "language": "python",
   "name": "python3"
  },
  "language_info": {
   "codemirror_mode": {
    "name": "ipython",
    "version": 3
   },
   "file_extension": ".py",
   "mimetype": "text/x-python",
   "name": "python",
   "nbconvert_exporter": "python",
   "pygments_lexer": "ipython3",
   "version": "3.9.12"
  }
 },
 "nbformat": 4,
 "nbformat_minor": 5
}
