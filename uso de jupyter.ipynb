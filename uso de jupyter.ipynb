{
 "cells": [
  {
   "cell_type": "code",
   "execution_count": 1,
   "id": "2015476f",
   "metadata": {},
   "outputs": [
    {
     "name": "stdout",
     "output_type": "stream",
     "text": [
      "3.9.12\n"
     ]
    }
   ],
   "source": [
    "from platform import python_version\n",
    "print(python_version())"
   ]
  },
  {
   "cell_type": "code",
   "execution_count": 2,
   "id": "9f08fd93",
   "metadata": {},
   "outputs": [
    {
     "name": "stdout",
     "output_type": "stream",
     "text": [
      "Hola Mundo\n"
     ]
    }
   ],
   "source": [
    "print(\"Hola Mundo\")"
   ]
  },
  {
   "cell_type": "code",
   "execution_count": 3,
   "id": "0a97eb6b",
   "metadata": {},
   "outputs": [],
   "source": [
    "# Este es un comentario sobre codigo que estamos desarrollando"
   ]
  },
  {
   "cell_type": "code",
   "execution_count": 5,
   "id": "c78dfff8",
   "metadata": {},
   "outputs": [],
   "source": [
    "# ctl + ç\n",
    "# 1\n",
    "# 2\n",
    "# 323\n",
    "# 4df\n",
    "# asf\n",
    "# 34234\n"
   ]
  },
  {
   "cell_type": "code",
   "execution_count": null,
   "id": "fb0d2242",
   "metadata": {},
   "outputs": [],
   "source": [
    "%run \"..\\\\funciones_auxiliares\""
   ]
  }
 ],
 "metadata": {
  "kernelspec": {
   "display_name": "Python 3 (ipykernel)",
   "language": "python",
   "name": "python3"
  },
  "language_info": {
   "codemirror_mode": {
    "name": "ipython",
    "version": 3
   },
   "file_extension": ".py",
   "mimetype": "text/x-python",
   "name": "python",
   "nbconvert_exporter": "python",
   "pygments_lexer": "ipython3",
   "version": "3.9.12"
  }
 },
 "nbformat": 4,
 "nbformat_minor": 5
}
