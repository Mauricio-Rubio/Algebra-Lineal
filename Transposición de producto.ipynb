{
 "cells": [
  {
   "cell_type": "code",
   "execution_count": 4,
   "id": "513492f7",
   "metadata": {},
   "outputs": [],
   "source": [
    "import numpy as np"
   ]
  },
  {
   "cell_type": "code",
   "execution_count": 27,
   "id": "5753adb6",
   "metadata": {},
   "outputs": [
    {
     "name": "stdout",
     "output_type": "stream",
     "text": [
      "[[0.02212789 0.20543944]\n",
      " [0.27256959 0.01077944]\n",
      " [0.00594008 0.44303902]]\n",
      "####\n",
      "[[0.03297152 0.99955136]\n",
      " [0.61781447 0.2684058 ]]\n"
     ]
    }
   ],
   "source": [
    "A = np.random.rand(3,2)\n",
    "B = np.random.rand(2,2)\n",
    "print(A)\n",
    "print(\"####\")\n",
    "print(B)"
   ]
  },
  {
   "cell_type": "code",
   "execution_count": 29,
   "id": "72b70b3d",
   "metadata": {},
   "outputs": [
    {
     "name": "stdout",
     "output_type": "stream",
     "text": [
      "[[0.12765305 0.01564673 0.27391177]\n",
      " [0.0772591  0.27534057 0.12485165]]\n"
     ]
    }
   ],
   "source": [
    "AB_t = A.dot(B).T\n",
    "print(AB_t)"
   ]
  },
  {
   "cell_type": "code",
   "execution_count": 31,
   "id": "ead5a62e",
   "metadata": {},
   "outputs": [
    {
     "name": "stdout",
     "output_type": "stream",
     "text": [
      "[[0.12765305 0.01564673 0.27391177]\n",
      " [0.0772591  0.27534057 0.12485165]]\n"
     ]
    }
   ],
   "source": [
    "B_tA_t = B.T.dot(A.T)\n",
    "print(B_tA_t)"
   ]
  },
  {
   "cell_type": "code",
   "execution_count": 32,
   "id": "f8698a12",
   "metadata": {},
   "outputs": [
    {
     "name": "stdout",
     "output_type": "stream",
     "text": [
      "[[ True  True  True]\n",
      " [ True  True  True]]\n"
     ]
    }
   ],
   "source": [
    "print(AB_t == B_tA_t)"
   ]
  },
  {
   "cell_type": "code",
   "execution_count": null,
   "id": "446c23d4",
   "metadata": {},
   "outputs": [],
   "source": []
  }
 ],
 "metadata": {
  "kernelspec": {
   "display_name": "Python 3 (ipykernel)",
   "language": "python",
   "name": "python3"
  },
  "language_info": {
   "codemirror_mode": {
    "name": "ipython",
    "version": 3
   },
   "file_extension": ".py",
   "mimetype": "text/x-python",
   "name": "python",
   "nbconvert_exporter": "python",
   "pygments_lexer": "ipython3",
   "version": "3.9.12"
  }
 },
 "nbformat": 4,
 "nbformat_minor": 5
}
