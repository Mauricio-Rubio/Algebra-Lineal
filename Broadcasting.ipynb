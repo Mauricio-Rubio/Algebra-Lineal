{
 "cells": [
  {
   "cell_type": "code",
   "execution_count": 1,
   "id": "d1fdb3bd",
   "metadata": {},
   "outputs": [],
   "source": [
    "import numpy as np"
   ]
  },
  {
   "cell_type": "code",
   "execution_count": 7,
   "id": "5798657a",
   "metadata": {},
   "outputs": [],
   "source": [
    "escalar = 5.95\n",
    "vector = np.array([3,4,5])\n",
    "matriz = np.array([[1,2],[3,4],[5,6]]) "
   ]
  },
  {
   "cell_type": "code",
   "execution_count": 5,
   "id": "31f48ba5",
   "metadata": {},
   "outputs": [
    {
     "ename": "ValueError",
     "evalue": "operands could not be broadcast together with shapes (3,2) (4,) ",
     "output_type": "error",
     "traceback": [
      "\u001b[0;31m---------------------------------------------------------------------------\u001b[0m",
      "\u001b[0;31mValueError\u001b[0m                                Traceback (most recent call last)",
      "Input \u001b[0;32mIn [5]\u001b[0m, in \u001b[0;36m<cell line: 1>\u001b[0;34m()\u001b[0m\n\u001b[0;32m----> 1\u001b[0m A \u001b[38;5;241m=\u001b[39m \u001b[43mmatriz\u001b[49m\u001b[43m \u001b[49m\u001b[38;5;241;43m+\u001b[39;49m\u001b[43m \u001b[49m\u001b[43mvector\u001b[49m\n\u001b[1;32m      2\u001b[0m \u001b[38;5;28mprint\u001b[39m(A)\n",
      "\u001b[0;31mValueError\u001b[0m: operands could not be broadcast together with shapes (3,2) (4,) "
     ]
    }
   ],
   "source": [
    "A = matriz + vector\n",
    "print(A)"
   ]
  },
  {
   "cell_type": "code",
   "execution_count": 9,
   "id": "afdd734e",
   "metadata": {},
   "outputs": [
    {
     "name": "stdout",
     "output_type": "stream",
     "text": [
      "[[ 4  7 10]\n",
      " [ 5  8 11]]\n"
     ]
    }
   ],
   "source": [
    "A = matriz.T + vector\n",
    "print(A)"
   ]
  },
  {
   "cell_type": "code",
   "execution_count": 11,
   "id": "3c8c6432",
   "metadata": {},
   "outputs": [],
   "source": [
    "# Matriz 3x2, mientras que su transpuesta es 2x3, entonces las suma extiende nuestro vector para poder hacer la suma\n",
    "# es decir la suma seria: matriz + [[3,4,5],[3,4,5]], \"replica el vector para completer hacia la matriz\", esto es \n",
    "# llamado broadcasting"
   ]
  },
  {
   "cell_type": "code",
   "execution_count": 13,
   "id": "96650f54",
   "metadata": {},
   "outputs": [
    {
     "name": "stdout",
     "output_type": "stream",
     "text": [
      "[[43 44]\n",
      " [45 46]\n",
      " [47 48]]\n"
     ]
    }
   ],
   "source": [
    "# En la suma una matriz con un escalar, internamente se realiza broadcasting, dado que se crea una matriz del tamaño\n",
    "# de la primera y se \"rellena\" cada entrada con el escalar \n",
    "A = matriz + 42\n",
    "print(A)"
   ]
  },
  {
   "cell_type": "code",
   "execution_count": 14,
   "id": "a618117d",
   "metadata": {},
   "outputs": [
    {
     "name": "stdout",
     "output_type": "stream",
     "text": [
      "[[43 44]\n",
      " [45 46]\n",
      " [47 48]]\n"
     ]
    }
   ],
   "source": [
    "D = matriz + np.array([[42],[42], [42]]) # Ejemplo más claro de que se está haciendo broadcastoing\n",
    "print(D)"
   ]
  },
  {
   "cell_type": "code",
   "execution_count": null,
   "id": "8dc717e4",
   "metadata": {},
   "outputs": [],
   "source": []
  }
 ],
 "metadata": {
  "kernelspec": {
   "display_name": "Python 3 (ipykernel)",
   "language": "python",
   "name": "python3"
  },
  "language_info": {
   "codemirror_mode": {
    "name": "ipython",
    "version": 3
   },
   "file_extension": ".py",
   "mimetype": "text/x-python",
   "name": "python",
   "nbconvert_exporter": "python",
   "pygments_lexer": "ipython3",
   "version": "3.9.12"
  }
 },
 "nbformat": 4,
 "nbformat_minor": 5
}
