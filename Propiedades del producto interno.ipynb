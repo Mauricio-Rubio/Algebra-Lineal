{
 "cells": [
  {
   "cell_type": "code",
   "execution_count": 2,
   "id": "4ba276fa",
   "metadata": {},
   "outputs": [],
   "source": [
    "import numpy as np\n",
    "# Asociatividad A x (B x C) = (A x B) x C\n",
    "# Distributividad A x (B + C) = (A x B) + (A x C)\n",
    "# Conmutatividad B x C = C x B"
   ]
  },
  {
   "cell_type": "code",
   "execution_count": 5,
   "id": "82dad600",
   "metadata": {},
   "outputs": [],
   "source": [
    "A = np.array([[2,3],[5,7],[11,13]])\n",
    "B = np.array([[1,3],[2,1]])\n",
    "C = np.array([[3,1],[4,2]])"
   ]
  },
  {
   "cell_type": "code",
   "execution_count": 6,
   "id": "6e242771",
   "metadata": {},
   "outputs": [
    {
     "name": "stdout",
     "output_type": "stream",
     "text": [
      "[[ 60  26]\n",
      " [145  63]\n",
      " [295 129]]\n"
     ]
    }
   ],
   "source": [
    "# Asociatividad (Se cumple, pero no es una demostración)\n",
    "ABC = A.dot(B.dot(C))\n",
    "print(ABC)"
   ]
  },
  {
   "cell_type": "code",
   "execution_count": 7,
   "id": "eedc4b73",
   "metadata": {},
   "outputs": [
    {
     "name": "stdout",
     "output_type": "stream",
     "text": [
      "[[ 60  26]\n",
      " [145  63]\n",
      " [295 129]]\n"
     ]
    }
   ],
   "source": [
    "AB_C = A.dot(B).dot(C)\n",
    "print(AB_C)"
   ]
  },
  {
   "cell_type": "code",
   "execution_count": 10,
   "id": "9e5fbf9b",
   "metadata": {},
   "outputs": [
    {
     "name": "stdout",
     "output_type": "stream",
     "text": [
      "[[ True  True]\n",
      " [ True  True]\n",
      " [ True  True]]\n"
     ]
    }
   ],
   "source": [
    "# Distributividad (Se cumple, pero no es una demostración)\n",
    "D = A.dot(B+C)\n",
    "E = A.dot(B)+A.dot(C)\n",
    "print(D==E)"
   ]
  },
  {
   "cell_type": "code",
   "execution_count": 11,
   "id": "9c51edb1",
   "metadata": {},
   "outputs": [
    {
     "name": "stdout",
     "output_type": "stream",
     "text": [
      "[[False False]\n",
      " [False False]]\n"
     ]
    }
   ],
   "source": [
    "# Conmutatividad (No se cumple. el producto punto en matrices no conmuta)\n",
    "F = B.dot(C)\n",
    "G = C.dot(B)\n",
    "print(F==G)"
   ]
  },
  {
   "cell_type": "code",
   "execution_count": 12,
   "id": "79f1687f",
   "metadata": {},
   "outputs": [],
   "source": [
    "# Conmutatividad de vectores"
   ]
  },
  {
   "cell_type": "code",
   "execution_count": 16,
   "id": "d8226442",
   "metadata": {},
   "outputs": [
    {
     "name": "stdout",
     "output_type": "stream",
     "text": [
      "[[ True]]\n"
     ]
    }
   ],
   "source": [
    "v1 = np.array([[2],[7]])\n",
    "v2 = np.array([[-2],[9]])\n",
    "v1_tv2 = v1.T.dot(v2)\n",
    "v2_tv1 = v2.T.dot(v1)\n",
    "print(v1_tv2 == v2_tv1)\n",
    "# Se tienen que transponer los vectores debido a las dimensiones (multiplicar un vector por un vector columna)"
   ]
  },
  {
   "cell_type": "code",
   "execution_count": null,
   "id": "6e856cec",
   "metadata": {},
   "outputs": [],
   "source": [
    "# Resume: \n",
    "## Producto interno en matrices es-> Asociativo y distributivo, NO CONMUTA\n",
    "## Producto interno en vectores es-> Asociativo y distributivo y conmutativo\n"
   ]
  }
 ],
 "metadata": {
  "kernelspec": {
   "display_name": "Python 3 (ipykernel)",
   "language": "python",
   "name": "python3"
  },
  "language_info": {
   "codemirror_mode": {
    "name": "ipython",
    "version": 3
   },
   "file_extension": ".py",
   "mimetype": "text/x-python",
   "name": "python",
   "nbconvert_exporter": "python",
   "pygments_lexer": "ipython3",
   "version": "3.9.12"
  }
 },
 "nbformat": 4,
 "nbformat_minor": 5
}
